{
 "cells": [
  {
   "cell_type": "code",
   "execution_count": 1,
   "metadata": {},
   "outputs": [],
   "source": [
    "import numpy as np\n",
    "import pandas as pd\n",
    "from sklearn.model_selection import train_test_split\n",
    "from sklearn import preprocessing\n",
    "\n",
    "from sklearn.ensemble import RandomForestRegressor\n",
    "from sklearn.pipeline import make_pipeline\n",
    "from sklearn.model_selection import GridSearchCV\n",
    "from sklearn.metrics import mean_squared_error, r2_score\n",
    "from sklearn.externals import joblib\n"
   ]
  },
  {
   "cell_type": "code",
   "execution_count": 2,
   "metadata": {},
   "outputs": [
    {
     "name": "stdout",
     "output_type": "stream",
     "text": [
      "   fixed acidity  volatile acidity  citric acid  residual sugar  chlorides  \\\n",
      "0            7.4              0.70         0.00             1.9      0.076   \n",
      "1            7.8              0.88         0.00             2.6      0.098   \n",
      "2            7.8              0.76         0.04             2.3      0.092   \n",
      "3           11.2              0.28         0.56             1.9      0.075   \n",
      "4            7.4              0.70         0.00             1.9      0.076   \n",
      "\n",
      "   free sulfur dioxide  total sulfur dioxide  density    pH  sulphates  \\\n",
      "0                 11.0                  34.0   0.9978  3.51       0.56   \n",
      "1                 25.0                  67.0   0.9968  3.20       0.68   \n",
      "2                 15.0                  54.0   0.9970  3.26       0.65   \n",
      "3                 17.0                  60.0   0.9980  3.16       0.58   \n",
      "4                 11.0                  34.0   0.9978  3.51       0.56   \n",
      "\n",
      "   alcohol  quality  \n",
      "0      9.4        5  \n",
      "1      9.8        5  \n",
      "2      9.8        5  \n",
      "3      9.8        6  \n",
      "4      9.4        5  \n"
     ]
    }
   ],
   "source": [
    "dataset_url = 'http://mlr.cs.umass.edu/ml/machine-learning-databases/wine-quality/winequality-red.csv'\n",
    "data = pd.read_csv(dataset_url, sep=';')\n",
    "\n",
    "print(data.head())"
   ]
  },
  {
   "cell_type": "code",
   "execution_count": 3,
   "metadata": {},
   "outputs": [
    {
     "name": "stdout",
     "output_type": "stream",
     "text": [
      "       fixed acidity  volatile acidity  citric acid  residual sugar  \\\n",
      "count    1599.000000       1599.000000  1599.000000     1599.000000   \n",
      "mean        8.319637          0.527821     0.270976        2.538806   \n",
      "std         1.741096          0.179060     0.194801        1.409928   \n",
      "min         4.600000          0.120000     0.000000        0.900000   \n",
      "25%         7.100000          0.390000     0.090000        1.900000   \n",
      "50%         7.900000          0.520000     0.260000        2.200000   \n",
      "75%         9.200000          0.640000     0.420000        2.600000   \n",
      "max        15.900000          1.580000     1.000000       15.500000   \n",
      "\n",
      "         chlorides  free sulfur dioxide  total sulfur dioxide      density  \\\n",
      "count  1599.000000          1599.000000           1599.000000  1599.000000   \n",
      "mean      0.087467            15.874922             46.467792     0.996747   \n",
      "std       0.047065            10.460157             32.895324     0.001887   \n",
      "min       0.012000             1.000000              6.000000     0.990070   \n",
      "25%       0.070000             7.000000             22.000000     0.995600   \n",
      "50%       0.079000            14.000000             38.000000     0.996750   \n",
      "75%       0.090000            21.000000             62.000000     0.997835   \n",
      "max       0.611000            72.000000            289.000000     1.003690   \n",
      "\n",
      "                pH    sulphates      alcohol      quality  \n",
      "count  1599.000000  1599.000000  1599.000000  1599.000000  \n",
      "mean      3.311113     0.658149    10.422983     5.636023  \n",
      "std       0.154386     0.169507     1.065668     0.807569  \n",
      "min       2.740000     0.330000     8.400000     3.000000  \n",
      "25%       3.210000     0.550000     9.500000     5.000000  \n",
      "50%       3.310000     0.620000    10.200000     6.000000  \n",
      "75%       3.400000     0.730000    11.100000     6.000000  \n",
      "max       4.010000     2.000000    14.900000     8.000000  \n"
     ]
    }
   ],
   "source": [
    "print (data.describe())"
   ]
  },
  {
   "cell_type": "code",
   "execution_count": 4,
   "metadata": {},
   "outputs": [],
   "source": [
    "y = data.quality\n",
    "X = data.drop('quality', axis=1)"
   ]
  },
  {
   "cell_type": "code",
   "execution_count": 5,
   "metadata": {},
   "outputs": [],
   "source": [
    "X_train, X_test, y_train, y_test = train_test_split(X, y, \n",
    "                                                    test_size=0.2, \n",
    "                                                    random_state=123, \n",
    "                                                    stratify=y)"
   ]
  },
  {
   "cell_type": "code",
   "execution_count": 6,
   "metadata": {},
   "outputs": [],
   "source": [
    "scaler = preprocessing.StandardScaler().fit(X_train)\n",
    "\n",
    "X_train_scaled = scaler.transform(X_train)\n"
   ]
  },
  {
   "cell_type": "code",
   "execution_count": 7,
   "metadata": {},
   "outputs": [
    {
     "name": "stdout",
     "output_type": "stream",
     "text": [
      "[ 1.16664562e-16 -3.05550043e-17 -8.47206937e-17 -2.22218213e-17\n",
      "  2.22218213e-17 -6.38877362e-17 -4.16659149e-18 -2.54439854e-15\n",
      " -8.70817622e-16 -4.08325966e-16 -1.17220107e-15]\n",
      "[1. 1. 1. 1. 1. 1. 1. 1. 1. 1. 1.]\n"
     ]
    }
   ],
   "source": [
    "print X_train_scaled.mean(axis=0)\n",
    "print X_train_scaled.std(axis=0)"
   ]
  },
  {
   "cell_type": "code",
   "execution_count": 8,
   "metadata": {},
   "outputs": [
    {
     "name": "stdout",
     "output_type": "stream",
     "text": [
      "[ 1.16664562e-16 -3.05550043e-17 -8.47206937e-17 -2.22218213e-17\n",
      "  2.22218213e-17 -6.38877362e-17 -4.16659149e-18 -2.54439854e-15\n",
      " -8.70817622e-16 -4.08325966e-16 -1.17220107e-15]\n",
      "[1. 1. 1. 1. 1. 1. 1. 1. 1. 1. 1.]\n",
      "{'randomforestregressor__min_samples_leaf': 1, 'randomforestregressor__max_leaf_nodes': None, 'randomforestregressor__max_features': 'auto', 'randomforestregressor__min_impurity_split': None, 'standardscaler__copy': True, 'randomforestregressor__oob_score': False, 'randomforestregressor__min_weight_fraction_leaf': 0.0, 'randomforestregressor__min_samples_split': 2, 'memory': None, 'randomforestregressor__min_impurity_decrease': 0.0, 'standardscaler': StandardScaler(copy=True, with_mean=True, with_std=True), 'randomforestregressor__random_state': None, 'standardscaler__with_mean': True, 'randomforestregressor__criterion': 'mse', 'randomforestregressor': RandomForestRegressor(bootstrap=True, criterion='mse', max_depth=None,\n",
      "           max_features='auto', max_leaf_nodes=None,\n",
      "           min_impurity_decrease=0.0, min_impurity_split=None,\n",
      "           min_samples_leaf=1, min_samples_split=2,\n",
      "           min_weight_fraction_leaf=0.0, n_estimators=100, n_jobs=1,\n",
      "           oob_score=False, random_state=None, verbose=0, warm_start=False), 'randomforestregressor__max_depth': None, 'standardscaler__with_std': True, 'randomforestregressor__bootstrap': True, 'randomforestregressor__warm_start': False, 'randomforestregressor__n_jobs': 1, 'randomforestregressor__verbose': 0, 'steps': [('standardscaler', StandardScaler(copy=True, with_mean=True, with_std=True)), ('randomforestregressor', RandomForestRegressor(bootstrap=True, criterion='mse', max_depth=None,\n",
      "           max_features='auto', max_leaf_nodes=None,\n",
      "           min_impurity_decrease=0.0, min_impurity_split=None,\n",
      "           min_samples_leaf=1, min_samples_split=2,\n",
      "           min_weight_fraction_leaf=0.0, n_estimators=100, n_jobs=1,\n",
      "           oob_score=False, random_state=None, verbose=0, warm_start=False))], 'randomforestregressor__n_estimators': 100}\n"
     ]
    }
   ],
   "source": [
    "X_test_scaled = scaler.transform(X_test)\n",
    "print X_train_scaled.mean(axis=0)\n",
    "print X_train_scaled.std(axis=0)\n",
    "\n",
    "\n",
    "pipeline = make_pipeline(preprocessing.StandardScaler(), \n",
    "                         RandomForestRegressor(n_estimators=100))\n",
    "\n",
    "print pipeline.get_params()\n",
    "\n",
    "hyperparameters = { 'randomforestregressor__max_features' : ['auto', 'sqrt', 'log2'],\n",
    "                  'randomforestregressor__max_depth': [None, 5, 3, 1]}"
   ]
  },
  {
   "cell_type": "code",
   "execution_count": 9,
   "metadata": {},
   "outputs": [
    {
     "name": "stdout",
     "output_type": "stream",
     "text": [
      "{'randomforestregressor__max_depth': None, 'randomforestregressor__max_features': 'auto'}\n",
      "True\n"
     ]
    }
   ],
   "source": [
    "clf = GridSearchCV(pipeline, hyperparameters, cv=10)\n",
    "\n",
    "clf.fit(X_train,y_train)\n",
    "print clf.best_params_\n",
    "print clf.refit\n"
   ]
  },
  {
   "cell_type": "code",
   "execution_count": 17,
   "metadata": {},
   "outputs": [
    {
     "name": "stdout",
     "output_type": "stream",
     "text": [
      "0.4615431926872088\n",
      "0.347451875\n"
     ]
    }
   ],
   "source": [
    " \t\n",
    "y_pred = clf.predict(X_test)\n",
    "print r2_score(y_test, y_pred)\n",
    "# 0.45044082571584243\n",
    " \n",
    "print mean_squared_error(y_test, y_pred)\n",
    "# 0.35461593750000003"
   ]
  },
  {
   "cell_type": "code",
   "execution_count": 20,
   "metadata": {},
   "outputs": [
    {
     "data": {
      "text/plain": [
       "array([6.57, 5.81, 5.01, 5.61, 6.4 , 5.61, 4.76, 4.68, 5.03, 6.19, 5.24,\n",
       "       5.7 , 5.78, 5.  , 5.75, 5.63, 6.64, 5.62, 5.74, 6.96, 5.46, 5.74,\n",
       "       4.95, 6.03, 5.89, 5.08, 5.56, 5.16, 5.92, 5.93, 5.89, 6.61, 5.99,\n",
       "       5.01, 4.92, 5.9 , 5.01, 5.78, 5.04, 5.76, 4.82, 5.95, 6.88, 5.06,\n",
       "       6.27, 5.32, 5.6 , 5.49, 5.08, 6.56, 5.93, 5.28, 5.88, 5.19, 5.51,\n",
       "       5.79, 5.26, 5.37, 5.  , 5.38, 5.25, 5.17, 5.04, 5.78, 5.97, 5.22,\n",
       "       6.32, 5.03, 5.11, 6.52, 5.75, 5.36, 5.1 , 5.02, 5.24, 6.01, 5.22,\n",
       "       5.14, 5.14, 5.24, 6.65, 5.43, 6.23, 6.51, 5.11, 5.85, 6.56, 6.02,\n",
       "       5.54, 5.72, 5.91, 5.39, 6.6 , 5.71, 5.69, 5.8 , 6.67, 6.68, 5.49,\n",
       "       6.88, 5.02, 5.32, 5.12, 6.61, 5.03, 4.71, 5.77, 5.13, 5.77, 5.98,\n",
       "       5.69, 5.43, 6.09, 5.55, 5.01, 5.24, 5.84, 5.06, 4.78, 6.04, 5.91,\n",
       "       5.13, 5.8 , 5.91, 5.24, 5.27, 5.26, 5.86, 5.47, 5.41, 5.72, 6.26,\n",
       "       5.1 , 5.37, 5.04, 6.44, 5.01, 5.1 , 6.69, 5.52, 5.2 , 5.03, 5.83,\n",
       "       6.1 , 5.34, 5.42, 5.14, 6.61, 5.69, 5.03, 5.56, 5.1 , 4.87, 5.01,\n",
       "       5.29, 5.96, 5.45, 5.76, 5.71, 5.22, 5.63, 5.33, 5.28, 5.88, 5.03,\n",
       "       5.98, 5.16, 5.13, 5.53, 5.1 , 5.62, 4.97, 5.59, 5.07, 5.72, 5.5 ,\n",
       "       5.09, 5.48, 5.51, 5.04, 6.17, 5.53, 5.04, 5.02, 5.19, 6.16, 5.2 ,\n",
       "       5.52, 5.2 , 4.8 , 5.48, 6.59, 5.81, 5.92, 5.48, 5.17, 5.52, 5.07,\n",
       "       6.16, 4.68, 6.27, 5.09, 5.28, 5.32, 6.84, 5.95, 5.56, 5.18, 5.44,\n",
       "       5.82, 6.07, 5.97, 6.16, 6.38, 5.78, 5.94, 5.24, 5.37, 5.73, 5.25,\n",
       "       5.22, 5.97, 6.1 , 5.62, 5.92, 5.8 , 5.38, 6.24, 5.39, 5.81, 5.47,\n",
       "       5.49, 6.3 , 5.75, 4.92, 4.22, 6.86, 6.68, 6.28, 5.37, 5.29, 5.46,\n",
       "       5.37, 6.24, 5.89, 5.21, 5.11, 5.37, 5.22, 6.52, 5.19, 5.03, 5.2 ,\n",
       "       5.11, 5.95, 6.6 , 5.64, 5.36, 5.48, 6.35, 5.48, 6.05, 5.21, 5.01,\n",
       "       5.87, 5.9 , 5.81, 5.67, 5.28, 5.05, 5.77, 5.5 , 6.58, 6.08, 5.72,\n",
       "       5.05, 6.03, 6.68, 5.92, 5.38, 5.66, 5.3 , 5.39, 6.09, 6.96, 5.39,\n",
       "       6.78, 6.  , 5.32, 5.24, 5.98, 5.13, 5.17, 6.29, 5.79, 5.93, 6.02,\n",
       "       5.87, 5.42, 5.73, 5.56, 6.28, 5.52, 6.94, 6.88, 5.99, 6.11, 5.06,\n",
       "       5.23, 5.9 , 5.31, 5.36, 5.74, 6.52, 6.63, 5.24, 5.57, 5.63, 6.12,\n",
       "       5.55])"
      ]
     },
     "execution_count": 20,
     "metadata": {},
     "output_type": "execute_result"
    }
   ],
   "source": [
    "joblib.dump(clf, 'rf_regressor.pkl')\n",
    "clf2 = joblib.load('rf_regressor.pkl')\n",
    "clf2.predict(X_test)"
   ]
  }
 ],
 "metadata": {
  "kernelspec": {
   "display_name": "Ml_env",
   "language": "python",
   "name": "ml_env"
  },
  "language_info": {
   "codemirror_mode": {
    "name": "ipython",
    "version": 2
   },
   "file_extension": ".py",
   "mimetype": "text/x-python",
   "name": "python",
   "nbconvert_exporter": "python",
   "pygments_lexer": "ipython2",
   "version": "2.7.12"
  }
 },
 "nbformat": 4,
 "nbformat_minor": 2
}
